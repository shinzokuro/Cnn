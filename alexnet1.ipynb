{
  "nbformat": 4,
  "nbformat_minor": 0,
  "metadata": {
    "colab": {
      "name": "alexnet1",
      "provenance": [],
      "authorship_tag": "ABX9TyMg64RgMALt9ryitpw84at6",
      "include_colab_link": true
    },
    "kernelspec": {
      "name": "python3",
      "display_name": "Python 3"
    },
    "language_info": {
      "name": "python"
    },
    "accelerator": "GPU"
  },
  "cells": [
    {
      "cell_type": "markdown",
      "metadata": {
        "id": "view-in-github",
        "colab_type": "text"
      },
      "source": [
        "<a href=\"https://colab.research.google.com/github/shinzokuro/Cnn/blob/alex/alexnet1.ipynb\" target=\"_parent\"><img src=\"https://colab.research.google.com/assets/colab-badge.svg\" alt=\"Open In Colab\"/></a>"
      ]
    },
    {
      "cell_type": "code",
      "metadata": {
        "colab": {
          "base_uri": "https://localhost:8080/"
        },
        "id": "Oo9D0M3Mofh_",
        "outputId": "afd95937-a5ac-498f-f54c-3081d6cc1ed3"
      },
      "source": [
        "import keras\n",
        "from keras.models import Sequential\n",
        "from keras.layers import Dense, Activation, Dropout, Flatten, Conv2D, MaxPooling2D\n",
        "from keras.layers.normalization import BatchNormalization\n",
        "import numpy as np\n",
        "\n",
        "np.random.seed(1000)\n",
        "\n",
        "#Instantiation\n",
        "AlexNet = Sequential()\n",
        "\n",
        "#1st Convolutional Layer\n",
        "AlexNet.add(Conv2D(filters=96, input_shape=(32,32,3), kernel_size=(11,11), strides=(4,4), padding='same'))\n",
        "AlexNet.add(BatchNormalization())\n",
        "AlexNet.add(Activation('relu'))\n",
        "AlexNet.add(MaxPooling2D(pool_size=(2,2), strides=(2,2), padding='same'))\n",
        "\n",
        "#2nd Convolutional Layer\n",
        "AlexNet.add(Conv2D(filters=256, kernel_size=(5, 5), strides=(1,1), padding='same'))\n",
        "AlexNet.add(BatchNormalization())\n",
        "AlexNet.add(Activation('relu'))\n",
        "AlexNet.add(MaxPooling2D(pool_size=(2,2), strides=(2,2), padding='same'))\n",
        "\n",
        "#3rd Convolutional Layer\n",
        "AlexNet.add(Conv2D(filters=384, kernel_size=(3,3), strides=(1,1), padding='same'))\n",
        "AlexNet.add(BatchNormalization())\n",
        "AlexNet.add(Activation('relu'))\n",
        "\n",
        "#4th Convolutional Layer\n",
        "AlexNet.add(Conv2D(filters=384, kernel_size=(3,3), strides=(1,1), padding='same'))\n",
        "AlexNet.add(BatchNormalization())\n",
        "AlexNet.add(Activation('relu'))\n",
        "\n",
        "#5th Convolutional Layer\n",
        "AlexNet.add(Conv2D(filters=256, kernel_size=(3,3), strides=(1,1), padding='same'))\n",
        "AlexNet.add(BatchNormalization())\n",
        "AlexNet.add(Activation('relu'))\n",
        "AlexNet.add(MaxPooling2D(pool_size=(2,2), strides=(2,2), padding='same'))\n",
        "\n",
        "#Passing it to a Fully Connected layer\n",
        "AlexNet.add(Flatten())\n",
        "# 1st Fully Connected Layer\n",
        "AlexNet.add(Dense(4096, input_shape=(32,32,3,)))\n",
        "AlexNet.add(BatchNormalization())\n",
        "AlexNet.add(Activation('relu'))\n",
        "# Add Dropout to prevent overfitting\n",
        "AlexNet.add(Dropout(0.4))\n",
        "\n",
        "#2nd Fully Connected Layer\n",
        "AlexNet.add(Dense(4096))\n",
        "AlexNet.add(BatchNormalization())\n",
        "AlexNet.add(Activation('relu'))\n",
        "#Add Dropout\n",
        "AlexNet.add(Dropout(0.4))\n",
        "\n",
        "#3rd Fully Connected Layer\n",
        "AlexNet.add(Dense(1000))\n",
        "AlexNet.add(BatchNormalization())\n",
        "AlexNet.add(Activation('relu'))\n",
        "#Add Dropout\n",
        "AlexNet.add(Dropout(0.4))\n",
        "\n",
        "#Output Layer\n",
        "AlexNet.add(Dense(10))\n",
        "AlexNet.add(BatchNormalization())\n",
        "AlexNet.add(Activation('softmax'))\n",
        "\n",
        "#Model Summary\n",
        "AlexNet.summary()"
      ],
      "execution_count": null,
      "outputs": [
        {
          "output_type": "stream",
          "text": [
            "Model: \"sequential_1\"\n",
            "_________________________________________________________________\n",
            "Layer (type)                 Output Shape              Param #   \n",
            "=================================================================\n",
            "conv2d_5 (Conv2D)            (None, 8, 8, 96)          34944     \n",
            "_________________________________________________________________\n",
            "batch_normalization_9 (Batch (None, 8, 8, 96)          384       \n",
            "_________________________________________________________________\n",
            "activation_9 (Activation)    (None, 8, 8, 96)          0         \n",
            "_________________________________________________________________\n",
            "max_pooling2d_3 (MaxPooling2 (None, 4, 4, 96)          0         \n",
            "_________________________________________________________________\n",
            "conv2d_6 (Conv2D)            (None, 4, 4, 256)         614656    \n",
            "_________________________________________________________________\n",
            "batch_normalization_10 (Batc (None, 4, 4, 256)         1024      \n",
            "_________________________________________________________________\n",
            "activation_10 (Activation)   (None, 4, 4, 256)         0         \n",
            "_________________________________________________________________\n",
            "max_pooling2d_4 (MaxPooling2 (None, 2, 2, 256)         0         \n",
            "_________________________________________________________________\n",
            "conv2d_7 (Conv2D)            (None, 2, 2, 384)         885120    \n",
            "_________________________________________________________________\n",
            "batch_normalization_11 (Batc (None, 2, 2, 384)         1536      \n",
            "_________________________________________________________________\n",
            "activation_11 (Activation)   (None, 2, 2, 384)         0         \n",
            "_________________________________________________________________\n",
            "conv2d_8 (Conv2D)            (None, 2, 2, 384)         1327488   \n",
            "_________________________________________________________________\n",
            "batch_normalization_12 (Batc (None, 2, 2, 384)         1536      \n",
            "_________________________________________________________________\n",
            "activation_12 (Activation)   (None, 2, 2, 384)         0         \n",
            "_________________________________________________________________\n",
            "conv2d_9 (Conv2D)            (None, 2, 2, 256)         884992    \n",
            "_________________________________________________________________\n",
            "batch_normalization_13 (Batc (None, 2, 2, 256)         1024      \n",
            "_________________________________________________________________\n",
            "activation_13 (Activation)   (None, 2, 2, 256)         0         \n",
            "_________________________________________________________________\n",
            "max_pooling2d_5 (MaxPooling2 (None, 1, 1, 256)         0         \n",
            "_________________________________________________________________\n",
            "flatten_1 (Flatten)          (None, 256)               0         \n",
            "_________________________________________________________________\n",
            "dense_4 (Dense)              (None, 4096)              1052672   \n",
            "_________________________________________________________________\n",
            "batch_normalization_14 (Batc (None, 4096)              16384     \n",
            "_________________________________________________________________\n",
            "activation_14 (Activation)   (None, 4096)              0         \n",
            "_________________________________________________________________\n",
            "dropout_3 (Dropout)          (None, 4096)              0         \n",
            "_________________________________________________________________\n",
            "dense_5 (Dense)              (None, 4096)              16781312  \n",
            "_________________________________________________________________\n",
            "batch_normalization_15 (Batc (None, 4096)              16384     \n",
            "_________________________________________________________________\n",
            "activation_15 (Activation)   (None, 4096)              0         \n",
            "_________________________________________________________________\n",
            "dropout_4 (Dropout)          (None, 4096)              0         \n",
            "_________________________________________________________________\n",
            "dense_6 (Dense)              (None, 1000)              4097000   \n",
            "_________________________________________________________________\n",
            "batch_normalization_16 (Batc (None, 1000)              4000      \n",
            "_________________________________________________________________\n",
            "activation_16 (Activation)   (None, 1000)              0         \n",
            "_________________________________________________________________\n",
            "dropout_5 (Dropout)          (None, 1000)              0         \n",
            "_________________________________________________________________\n",
            "dense_7 (Dense)              (None, 10)                10010     \n",
            "_________________________________________________________________\n",
            "batch_normalization_17 (Batc (None, 10)                40        \n",
            "_________________________________________________________________\n",
            "activation_17 (Activation)   (None, 10)                0         \n",
            "=================================================================\n",
            "Total params: 25,730,506\n",
            "Trainable params: 25,709,350\n",
            "Non-trainable params: 21,156\n",
            "_________________________________________________________________\n"
          ],
          "name": "stdout"
        }
      ]
    },
    {
      "cell_type": "code",
      "metadata": {
        "id": "5ntbo9zz2-Um"
      },
      "source": [
        "AlexNet.compile(loss = keras.losses.categorical_crossentropy, optimizer= 'adam', metrics=['accuracy'])"
      ],
      "execution_count": null,
      "outputs": []
    },
    {
      "cell_type": "code",
      "metadata": {
        "colab": {
          "base_uri": "https://localhost:8080/"
        },
        "id": "SlAOMFA43CFB",
        "outputId": "173864b6-1af3-4449-cc07-0232ca6f6015"
      },
      "source": [
        "from keras.datasets import cifar10\n",
        "(x_train, y_train),(x_test, y_test)=cifar10.load_data()\n",
        "\n",
        "#Train-validation-test split\n",
        "from sklearn.model_selection import train_test_split\n",
        "x_train,x_val,y_train,y_val=train_test_split(x_train,y_train,test_size=.3)\n",
        "\n",
        "#Dimension of the CIFAR10 dataset\n",
        "print((x_train.shape,y_train.shape))\n",
        "print((x_val.shape,y_val.shape))\n",
        "print((x_test.shape,y_test.shape))"
      ],
      "execution_count": null,
      "outputs": [
        {
          "output_type": "stream",
          "text": [
            "((35000, 32, 32, 3), (35000, 1))\n",
            "((15000, 32, 32, 3), (15000, 1))\n",
            "((10000, 32, 32, 3), (10000, 1))\n"
          ],
          "name": "stdout"
        }
      ]
    },
    {
      "cell_type": "code",
      "metadata": {
        "colab": {
          "base_uri": "https://localhost:8080/"
        },
        "id": "SMODd7mZ4Bz2",
        "outputId": "4756d3f4-eff4-4af2-d23e-cae4c27de9f7"
      },
      "source": [
        "!pip install tensorflow"
      ],
      "execution_count": null,
      "outputs": [
        {
          "output_type": "stream",
          "text": [
            "Requirement already satisfied: tensorflow in /usr/local/lib/python3.7/dist-packages (2.5.0)\n",
            "Requirement already satisfied: numpy~=1.19.2 in /usr/local/lib/python3.7/dist-packages (from tensorflow) (1.19.5)\n",
            "Requirement already satisfied: wrapt~=1.12.1 in /usr/local/lib/python3.7/dist-packages (from tensorflow) (1.12.1)\n",
            "Requirement already satisfied: flatbuffers~=1.12.0 in /usr/local/lib/python3.7/dist-packages (from tensorflow) (1.12)\n",
            "Requirement already satisfied: google-pasta~=0.2 in /usr/local/lib/python3.7/dist-packages (from tensorflow) (0.2.0)\n",
            "Requirement already satisfied: tensorboard~=2.5 in /usr/local/lib/python3.7/dist-packages (from tensorflow) (2.5.0)\n",
            "Requirement already satisfied: typing-extensions~=3.7.4 in /usr/local/lib/python3.7/dist-packages (from tensorflow) (3.7.4.3)\n",
            "Requirement already satisfied: termcolor~=1.1.0 in /usr/local/lib/python3.7/dist-packages (from tensorflow) (1.1.0)\n",
            "Requirement already satisfied: h5py~=3.1.0 in /usr/local/lib/python3.7/dist-packages (from tensorflow) (3.1.0)\n",
            "Requirement already satisfied: keras-preprocessing~=1.1.2 in /usr/local/lib/python3.7/dist-packages (from tensorflow) (1.1.2)\n",
            "Requirement already satisfied: keras-nightly~=2.5.0.dev in /usr/local/lib/python3.7/dist-packages (from tensorflow) (2.5.0.dev2021032900)\n",
            "Requirement already satisfied: opt-einsum~=3.3.0 in /usr/local/lib/python3.7/dist-packages (from tensorflow) (3.3.0)\n",
            "Requirement already satisfied: protobuf>=3.9.2 in /usr/local/lib/python3.7/dist-packages (from tensorflow) (3.12.4)\n",
            "Requirement already satisfied: wheel~=0.35 in /usr/local/lib/python3.7/dist-packages (from tensorflow) (0.36.2)\n",
            "Requirement already satisfied: astunparse~=1.6.3 in /usr/local/lib/python3.7/dist-packages (from tensorflow) (1.6.3)\n",
            "Requirement already satisfied: grpcio~=1.34.0 in /usr/local/lib/python3.7/dist-packages (from tensorflow) (1.34.1)\n",
            "Requirement already satisfied: tensorflow-estimator<2.6.0,>=2.5.0rc0 in /usr/local/lib/python3.7/dist-packages (from tensorflow) (2.5.0)\n",
            "Requirement already satisfied: absl-py~=0.10 in /usr/local/lib/python3.7/dist-packages (from tensorflow) (0.12.0)\n",
            "Requirement already satisfied: six~=1.15.0 in /usr/local/lib/python3.7/dist-packages (from tensorflow) (1.15.0)\n",
            "Requirement already satisfied: gast==0.4.0 in /usr/local/lib/python3.7/dist-packages (from tensorflow) (0.4.0)\n",
            "Requirement already satisfied: google-auth<2,>=1.6.3 in /usr/local/lib/python3.7/dist-packages (from tensorboard~=2.5->tensorflow) (1.31.0)\n",
            "Requirement already satisfied: setuptools>=41.0.0 in /usr/local/lib/python3.7/dist-packages (from tensorboard~=2.5->tensorflow) (57.0.0)\n",
            "Requirement already satisfied: tensorboard-data-server<0.7.0,>=0.6.0 in /usr/local/lib/python3.7/dist-packages (from tensorboard~=2.5->tensorflow) (0.6.1)\n",
            "Requirement already satisfied: werkzeug>=0.11.15 in /usr/local/lib/python3.7/dist-packages (from tensorboard~=2.5->tensorflow) (1.0.1)\n",
            "Requirement already satisfied: google-auth-oauthlib<0.5,>=0.4.1 in /usr/local/lib/python3.7/dist-packages (from tensorboard~=2.5->tensorflow) (0.4.4)\n",
            "Requirement already satisfied: tensorboard-plugin-wit>=1.6.0 in /usr/local/lib/python3.7/dist-packages (from tensorboard~=2.5->tensorflow) (1.8.0)\n",
            "Requirement already satisfied: requests<3,>=2.21.0 in /usr/local/lib/python3.7/dist-packages (from tensorboard~=2.5->tensorflow) (2.23.0)\n",
            "Requirement already satisfied: markdown>=2.6.8 in /usr/local/lib/python3.7/dist-packages (from tensorboard~=2.5->tensorflow) (3.3.4)\n",
            "Requirement already satisfied: cached-property; python_version < \"3.8\" in /usr/local/lib/python3.7/dist-packages (from h5py~=3.1.0->tensorflow) (1.5.2)\n",
            "Requirement already satisfied: pyasn1-modules>=0.2.1 in /usr/local/lib/python3.7/dist-packages (from google-auth<2,>=1.6.3->tensorboard~=2.5->tensorflow) (0.2.8)\n",
            "Requirement already satisfied: cachetools<5.0,>=2.0.0 in /usr/local/lib/python3.7/dist-packages (from google-auth<2,>=1.6.3->tensorboard~=2.5->tensorflow) (4.2.2)\n",
            "Requirement already satisfied: rsa<5,>=3.1.4; python_version >= \"3.6\" in /usr/local/lib/python3.7/dist-packages (from google-auth<2,>=1.6.3->tensorboard~=2.5->tensorflow) (4.7.2)\n",
            "Requirement already satisfied: requests-oauthlib>=0.7.0 in /usr/local/lib/python3.7/dist-packages (from google-auth-oauthlib<0.5,>=0.4.1->tensorboard~=2.5->tensorflow) (1.3.0)\n",
            "Requirement already satisfied: idna<3,>=2.5 in /usr/local/lib/python3.7/dist-packages (from requests<3,>=2.21.0->tensorboard~=2.5->tensorflow) (2.10)\n",
            "Requirement already satisfied: certifi>=2017.4.17 in /usr/local/lib/python3.7/dist-packages (from requests<3,>=2.21.0->tensorboard~=2.5->tensorflow) (2021.5.30)\n",
            "Requirement already satisfied: chardet<4,>=3.0.2 in /usr/local/lib/python3.7/dist-packages (from requests<3,>=2.21.0->tensorboard~=2.5->tensorflow) (3.0.4)\n",
            "Requirement already satisfied: urllib3!=1.25.0,!=1.25.1,<1.26,>=1.21.1 in /usr/local/lib/python3.7/dist-packages (from requests<3,>=2.21.0->tensorboard~=2.5->tensorflow) (1.24.3)\n",
            "Requirement already satisfied: importlib-metadata; python_version < \"3.8\" in /usr/local/lib/python3.7/dist-packages (from markdown>=2.6.8->tensorboard~=2.5->tensorflow) (4.5.0)\n",
            "Requirement already satisfied: pyasn1<0.5.0,>=0.4.6 in /usr/local/lib/python3.7/dist-packages (from pyasn1-modules>=0.2.1->google-auth<2,>=1.6.3->tensorboard~=2.5->tensorflow) (0.4.8)\n",
            "Requirement already satisfied: oauthlib>=3.0.0 in /usr/local/lib/python3.7/dist-packages (from requests-oauthlib>=0.7.0->google-auth-oauthlib<0.5,>=0.4.1->tensorboard~=2.5->tensorflow) (3.1.1)\n",
            "Requirement already satisfied: zipp>=0.5 in /usr/local/lib/python3.7/dist-packages (from importlib-metadata; python_version < \"3.8\"->markdown>=2.6.8->tensorboard~=2.5->tensorflow) (3.4.1)\n"
          ],
          "name": "stdout"
        }
      ]
    },
    {
      "cell_type": "code",
      "metadata": {
        "id": "L6H4my5O4HmO"
      },
      "source": [
        "from tensorflow import keras as k"
      ],
      "execution_count": null,
      "outputs": []
    },
    {
      "cell_type": "code",
      "metadata": {
        "id": "PhSMmqBt4OV2"
      },
      "source": [
        "y_train = k.utils.to_categorical(y_train, num_classes=10)\n",
        "y_val = k.utils.to_categorical(y_val, num_classes=10)\n",
        "y_test = k.utils.to_categorical(y_test, num_classes=10)"
      ],
      "execution_count": null,
      "outputs": []
    },
    {
      "cell_type": "code",
      "metadata": {
        "colab": {
          "base_uri": "https://localhost:8080/"
        },
        "id": "Ecb1Zog73KUx",
        "outputId": "da02e749-0db1-4f44-d3b4-f19c22f227a6"
      },
      "source": [
        "\n",
        "#Verifying the dimension after one hot encoding\n",
        "print((x_train.shape,y_train.shape))\n",
        "print((x_val.shape,y_val.shape))\n",
        "print((x_test.shape,y_test.shape))"
      ],
      "execution_count": null,
      "outputs": [
        {
          "output_type": "stream",
          "text": [
            "((35000, 32, 32, 3), (35000, 10))\n",
            "((15000, 32, 32, 3), (15000, 10))\n",
            "((10000, 32, 32, 3), (10000, 10))\n"
          ],
          "name": "stdout"
        }
      ]
    },
    {
      "cell_type": "code",
      "metadata": {
        "id": "aMQm0uQu4x_r"
      },
      "source": [
        "from keras.preprocessing.image import ImageDataGenerator\n",
        "\n",
        "train_generator = ImageDataGenerator(rotation_range=2, horizontal_flip=True,zoom_range=.1 )\n",
        "\n",
        "val_generator = ImageDataGenerator(rotation_range=2, horizontal_flip=True,zoom_range=.1)\n",
        "\n",
        "test_generator = ImageDataGenerator(rotation_range=2, horizontal_flip= True,zoom_range=.1)\n",
        "\n",
        "#Fitting the augmentation defined above to the data\n",
        "train_generator.fit(x_train)\n",
        "val_generator.fit(x_val)\n",
        "test_generator.fit(x_test)"
      ],
      "execution_count": null,
      "outputs": []
    },
    {
      "cell_type": "code",
      "metadata": {
        "id": "RJmbOggk5HYI"
      },
      "source": [
        "from keras.callbacks import ReduceLROnPlateau\n",
        "lrr= ReduceLROnPlateau(   monitor='accuracy',   factor=.01,   patience=3,  min_lr=1e-5) "
      ],
      "execution_count": null,
      "outputs": []
    },
    {
      "cell_type": "code",
      "metadata": {
        "id": "N5b7zVTAA8wP"
      },
      "source": [
        ""
      ],
      "execution_count": null,
      "outputs": []
    },
    {
      "cell_type": "code",
      "metadata": {
        "id": "aiPGgXYZ5Ktt"
      },
      "source": [
        "batch_size= 100\n",
        "epochs=100\n",
        "learn_rate=.001"
      ],
      "execution_count": null,
      "outputs": []
    },
    {
      "cell_type": "code",
      "metadata": {
        "colab": {
          "base_uri": "https://localhost:8080/"
        },
        "id": "kTHQONVA5OX4",
        "outputId": "2ec126bd-2553-4f1b-cdcf-d54003ca0ecf"
      },
      "source": [
        "AlexNet.fit_generator(train_generator.flow(x_train, y_train, batch_size=batch_size),\n",
        "                      epochs = epochs, \n",
        "                      steps_per_epoch = x_train.shape[0]//batch_size, \n",
        "                      validation_data = val_generator.flow(x_val, y_val, batch_size=batch_size),\n",
        "                      validation_steps = 250, callbacks = [lrr], verbose=1)\n"
      ],
      "execution_count": null,
      "outputs": [
        {
          "output_type": "stream",
          "text": [
            "/usr/local/lib/python3.7/dist-packages/keras/engine/training.py:1915: UserWarning: `Model.fit_generator` is deprecated and will be removed in a future version. Please use `Model.fit`, which supports generators.\n",
            "  warnings.warn('`Model.fit_generator` is deprecated and '\n"
          ],
          "name": "stderr"
        },
        {
          "output_type": "stream",
          "text": [
            "Epoch 1/100\n",
            "349/350 [============================>.] - ETA: 0s - loss: 1.8232 - accuracy: 0.3377WARNING:tensorflow:Your input ran out of data; interrupting training. Make sure that your dataset or generator can generate at least `steps_per_epoch * epochs` batches (in this case, 250 batches). You may need to use the repeat() function when building your dataset.\n",
            "350/350 [==============================] - 31s 81ms/step - loss: 1.8222 - accuracy: 0.3381 - val_loss: 2.1063 - val_accuracy: 0.2557\n",
            "Epoch 2/100\n",
            "350/350 [==============================] - 17s 49ms/step - loss: 1.4480 - accuracy: 0.4881\n",
            "Epoch 3/100\n",
            "350/350 [==============================] - 18s 50ms/step - loss: 1.3080 - accuracy: 0.5432\n",
            "Epoch 4/100\n",
            "350/350 [==============================] - 17s 49ms/step - loss: 1.2088 - accuracy: 0.5802\n",
            "Epoch 5/100\n",
            "350/350 [==============================] - 17s 49ms/step - loss: 1.1423 - accuracy: 0.6065\n",
            "Epoch 6/100\n",
            "350/350 [==============================] - 17s 49ms/step - loss: 1.0668 - accuracy: 0.6335\n",
            "Epoch 7/100\n",
            "350/350 [==============================] - 17s 49ms/step - loss: 1.0170 - accuracy: 0.6500\n",
            "Epoch 8/100\n",
            "350/350 [==============================] - 17s 49ms/step - loss: 0.9579 - accuracy: 0.6699\n",
            "Epoch 9/100\n",
            "350/350 [==============================] - 17s 49ms/step - loss: 0.9254 - accuracy: 0.6841\n",
            "Epoch 10/100\n",
            "350/350 [==============================] - 17s 49ms/step - loss: 0.8705 - accuracy: 0.7010\n",
            "Epoch 11/100\n",
            "350/350 [==============================] - 17s 49ms/step - loss: 0.8438 - accuracy: 0.7153\n",
            "Epoch 12/100\n",
            "350/350 [==============================] - 17s 49ms/step - loss: 0.8103 - accuracy: 0.7262\n",
            "Epoch 13/100\n",
            "350/350 [==============================] - 17s 49ms/step - loss: 0.7729 - accuracy: 0.7383\n",
            "Epoch 14/100\n",
            "350/350 [==============================] - 17s 49ms/step - loss: 0.7408 - accuracy: 0.7492\n",
            "Epoch 15/100\n",
            "350/350 [==============================] - 17s 49ms/step - loss: 0.6957 - accuracy: 0.7673\n",
            "Epoch 16/100\n",
            "350/350 [==============================] - 17s 49ms/step - loss: 0.6739 - accuracy: 0.7739\n",
            "Epoch 17/100\n",
            "350/350 [==============================] - 17s 50ms/step - loss: 0.6495 - accuracy: 0.7810\n",
            "Epoch 18/100\n",
            "350/350 [==============================] - 17s 49ms/step - loss: 0.6224 - accuracy: 0.7920\n",
            "Epoch 19/100\n",
            "350/350 [==============================] - 17s 49ms/step - loss: 0.5906 - accuracy: 0.8031\n",
            "Epoch 20/100\n",
            "350/350 [==============================] - 17s 49ms/step - loss: 0.5691 - accuracy: 0.8110\n",
            "Epoch 21/100\n",
            "350/350 [==============================] - 17s 49ms/step - loss: 0.5447 - accuracy: 0.8211\n",
            "Epoch 22/100\n",
            "350/350 [==============================] - 19s 53ms/step - loss: 0.5212 - accuracy: 0.8249\n",
            "Epoch 23/100\n",
            "350/350 [==============================] - 17s 49ms/step - loss: 0.5056 - accuracy: 0.8310\n",
            "Epoch 24/100\n",
            "350/350 [==============================] - 17s 50ms/step - loss: 0.4586 - accuracy: 0.8510\n",
            "Epoch 25/100\n",
            "350/350 [==============================] - 17s 49ms/step - loss: 0.4511 - accuracy: 0.8494\n",
            "Epoch 26/100\n",
            "350/350 [==============================] - 17s 49ms/step - loss: 0.4383 - accuracy: 0.8548\n",
            "Epoch 27/100\n",
            "350/350 [==============================] - 17s 49ms/step - loss: 0.4314 - accuracy: 0.8564\n",
            "Epoch 28/100\n",
            "350/350 [==============================] - 17s 49ms/step - loss: 0.3982 - accuracy: 0.8680\n",
            "Epoch 29/100\n",
            "350/350 [==============================] - 17s 49ms/step - loss: 0.3977 - accuracy: 0.8672\n",
            "Epoch 30/100\n",
            "350/350 [==============================] - 17s 49ms/step - loss: 0.3593 - accuracy: 0.8818\n",
            "Epoch 31/100\n",
            "350/350 [==============================] - 17s 50ms/step - loss: 0.3608 - accuracy: 0.8802\n",
            "Epoch 32/100\n",
            "350/350 [==============================] - 17s 49ms/step - loss: 0.3495 - accuracy: 0.8829\n",
            "Epoch 33/100\n",
            "350/350 [==============================] - 17s 49ms/step - loss: 0.3372 - accuracy: 0.8885\n",
            "Epoch 34/100\n",
            "350/350 [==============================] - 17s 49ms/step - loss: 0.3270 - accuracy: 0.8951\n",
            "Epoch 35/100\n",
            "350/350 [==============================] - 17s 49ms/step - loss: 0.3095 - accuracy: 0.8979\n",
            "Epoch 36/100\n",
            "350/350 [==============================] - 17s 49ms/step - loss: 0.3015 - accuracy: 0.9017\n",
            "Epoch 37/100\n",
            "350/350 [==============================] - 17s 49ms/step - loss: 0.2968 - accuracy: 0.9019\n",
            "Epoch 38/100\n",
            "350/350 [==============================] - 17s 49ms/step - loss: 0.2789 - accuracy: 0.9087\n",
            "Epoch 39/100\n",
            "350/350 [==============================] - 17s 49ms/step - loss: 0.2724 - accuracy: 0.9111\n",
            "Epoch 40/100\n",
            "350/350 [==============================] - 17s 49ms/step - loss: 0.2570 - accuracy: 0.9172\n",
            "Epoch 41/100\n",
            "350/350 [==============================] - 17s 49ms/step - loss: 0.2541 - accuracy: 0.9177\n",
            "Epoch 42/100\n",
            "350/350 [==============================] - 17s 49ms/step - loss: 0.2509 - accuracy: 0.9203\n",
            "Epoch 43/100\n",
            "350/350 [==============================] - 17s 49ms/step - loss: 0.2320 - accuracy: 0.9215\n",
            "Epoch 44/100\n",
            "350/350 [==============================] - 17s 49ms/step - loss: 0.2344 - accuracy: 0.9251\n",
            "Epoch 45/100\n",
            "350/350 [==============================] - 17s 49ms/step - loss: 0.2291 - accuracy: 0.9246\n",
            "Epoch 46/100\n",
            "350/350 [==============================] - 17s 49ms/step - loss: 0.2149 - accuracy: 0.9289\n",
            "Epoch 47/100\n",
            "350/350 [==============================] - 17s 49ms/step - loss: 0.2148 - accuracy: 0.9296\n",
            "Epoch 48/100\n",
            "350/350 [==============================] - 17s 49ms/step - loss: 0.2044 - accuracy: 0.9313\n",
            "Epoch 49/100\n",
            "350/350 [==============================] - 17s 49ms/step - loss: 0.2070 - accuracy: 0.9327\n",
            "Epoch 50/100\n",
            "350/350 [==============================] - 17s 49ms/step - loss: 0.1981 - accuracy: 0.9340\n",
            "Epoch 51/100\n",
            "350/350 [==============================] - 17s 49ms/step - loss: 0.1936 - accuracy: 0.9357\n",
            "Epoch 52/100\n",
            "350/350 [==============================] - 17s 49ms/step - loss: 0.1912 - accuracy: 0.9356\n",
            "Epoch 53/100\n",
            "350/350 [==============================] - 17s 49ms/step - loss: 0.1853 - accuracy: 0.9393\n",
            "Epoch 54/100\n",
            "350/350 [==============================] - 17s 49ms/step - loss: 0.1811 - accuracy: 0.9403\n",
            "Epoch 55/100\n",
            "350/350 [==============================] - 17s 49ms/step - loss: 0.1756 - accuracy: 0.9407\n",
            "Epoch 56/100\n",
            "350/350 [==============================] - 17s 49ms/step - loss: 0.1755 - accuracy: 0.9423\n",
            "Epoch 57/100\n",
            "350/350 [==============================] - 17s 49ms/step - loss: 0.1723 - accuracy: 0.9428\n",
            "Epoch 58/100\n",
            "350/350 [==============================] - 17s 49ms/step - loss: 0.1563 - accuracy: 0.9486\n",
            "Epoch 59/100\n",
            "350/350 [==============================] - 17s 49ms/step - loss: 0.1531 - accuracy: 0.9482\n",
            "Epoch 60/100\n",
            "350/350 [==============================] - 17s 49ms/step - loss: 0.1465 - accuracy: 0.9514\n",
            "Epoch 61/100\n",
            "350/350 [==============================] - 17s 48ms/step - loss: 0.1437 - accuracy: 0.9513\n",
            "Epoch 62/100\n",
            "350/350 [==============================] - 17s 49ms/step - loss: 0.1512 - accuracy: 0.9512\n",
            "Epoch 63/100\n",
            "350/350 [==============================] - 17s 49ms/step - loss: 0.1472 - accuracy: 0.9515\n",
            "Epoch 64/100\n",
            "350/350 [==============================] - 17s 49ms/step - loss: 0.1399 - accuracy: 0.9531\n",
            "Epoch 65/100\n",
            "350/350 [==============================] - 17s 49ms/step - loss: 0.1462 - accuracy: 0.9496\n",
            "Epoch 66/100\n",
            "350/350 [==============================] - 17s 49ms/step - loss: 0.1341 - accuracy: 0.9537\n",
            "Epoch 67/100\n",
            "350/350 [==============================] - 17s 49ms/step - loss: 0.1381 - accuracy: 0.9534\n",
            "Epoch 68/100\n",
            "350/350 [==============================] - 17s 49ms/step - loss: 0.1307 - accuracy: 0.9580\n",
            "Epoch 69/100\n",
            "350/350 [==============================] - 17s 49ms/step - loss: 0.1273 - accuracy: 0.9571\n",
            "Epoch 70/100\n",
            "350/350 [==============================] - 17s 49ms/step - loss: 0.1344 - accuracy: 0.9561\n",
            "Epoch 71/100\n",
            "350/350 [==============================] - 17s 49ms/step - loss: 0.1298 - accuracy: 0.9571\n",
            "Epoch 72/100\n",
            "350/350 [==============================] - 17s 49ms/step - loss: 0.1196 - accuracy: 0.9609\n",
            "Epoch 73/100\n",
            "350/350 [==============================] - 17s 49ms/step - loss: 0.1165 - accuracy: 0.9621\n",
            "Epoch 74/100\n",
            "350/350 [==============================] - 17s 49ms/step - loss: 0.1190 - accuracy: 0.9593\n",
            "Epoch 75/100\n",
            "350/350 [==============================] - 17s 49ms/step - loss: 0.1139 - accuracy: 0.9638\n",
            "Epoch 76/100\n",
            "350/350 [==============================] - 17s 49ms/step - loss: 0.1140 - accuracy: 0.9622\n",
            "Epoch 77/100\n",
            "350/350 [==============================] - 17s 49ms/step - loss: 0.1127 - accuracy: 0.9611\n",
            "Epoch 78/100\n",
            "350/350 [==============================] - 17s 49ms/step - loss: 0.1075 - accuracy: 0.9635\n",
            "Epoch 79/100\n",
            "350/350 [==============================] - 17s 49ms/step - loss: 0.1030 - accuracy: 0.9674\n",
            "Epoch 80/100\n",
            "350/350 [==============================] - 17s 48ms/step - loss: 0.0839 - accuracy: 0.9732\n",
            "Epoch 81/100\n",
            "350/350 [==============================] - 17s 49ms/step - loss: 0.0707 - accuracy: 0.9781\n",
            "Epoch 82/100\n",
            "350/350 [==============================] - 17s 49ms/step - loss: 0.0671 - accuracy: 0.9798\n",
            "Epoch 83/100\n",
            "350/350 [==============================] - 17s 49ms/step - loss: 0.0635 - accuracy: 0.9803\n",
            "Epoch 84/100\n",
            "350/350 [==============================] - 17s 48ms/step - loss: 0.0596 - accuracy: 0.9814\n",
            "Epoch 85/100\n",
            "350/350 [==============================] - 17s 49ms/step - loss: 0.0531 - accuracy: 0.9846\n",
            "Epoch 86/100\n",
            "350/350 [==============================] - 17s 49ms/step - loss: 0.0520 - accuracy: 0.9847\n",
            "Epoch 87/100\n",
            "350/350 [==============================] - 17s 49ms/step - loss: 0.0528 - accuracy: 0.9832\n",
            "Epoch 88/100\n",
            "350/350 [==============================] - 17s 48ms/step - loss: 0.0511 - accuracy: 0.9840\n",
            "Epoch 89/100\n",
            "350/350 [==============================] - 17s 48ms/step - loss: 0.0506 - accuracy: 0.9848\n",
            "Epoch 90/100\n",
            "350/350 [==============================] - 17s 49ms/step - loss: 0.0490 - accuracy: 0.9849\n",
            "Epoch 91/100\n",
            "350/350 [==============================] - 17s 49ms/step - loss: 0.0510 - accuracy: 0.9859\n",
            "Epoch 92/100\n",
            "350/350 [==============================] - 17s 49ms/step - loss: 0.0476 - accuracy: 0.9857\n",
            "Epoch 93/100\n",
            "350/350 [==============================] - 17s 48ms/step - loss: 0.0447 - accuracy: 0.9870\n",
            "Epoch 94/100\n",
            "350/350 [==============================] - 17s 48ms/step - loss: 0.0426 - accuracy: 0.9875\n",
            "Epoch 95/100\n",
            "350/350 [==============================] - 17s 49ms/step - loss: 0.0429 - accuracy: 0.9873\n",
            "Epoch 96/100\n",
            "350/350 [==============================] - 17s 49ms/step - loss: 0.0420 - accuracy: 0.9873\n",
            "Epoch 97/100\n",
            "350/350 [==============================] - 17s 49ms/step - loss: 0.0425 - accuracy: 0.9870\n",
            "Epoch 98/100\n",
            "350/350 [==============================] - 17s 49ms/step - loss: 0.0386 - accuracy: 0.9895\n",
            "Epoch 99/100\n",
            "350/350 [==============================] - 17s 48ms/step - loss: 0.0394 - accuracy: 0.9886\n",
            "Epoch 100/100\n",
            "350/350 [==============================] - 17s 50ms/step - loss: 0.0387 - accuracy: 0.9887\n"
          ],
          "name": "stdout"
        },
        {
          "output_type": "execute_result",
          "data": {
            "text/plain": [
              "<keras.callbacks.History at 0x7f5d22230ad0>"
            ]
          },
          "metadata": {
            "tags": []
          },
          "execution_count": 23
        }
      ]
    },
    {
      "cell_type": "code",
      "metadata": {
        "id": "cljFwuItBlPt"
      },
      "source": [
        "#Defining function for confusion matrix plot\n",
        "def plot_confusion_matrix(y_true, y_pred, classes,\n",
        "                          normalize=False,\n",
        "                          title=None,\n",
        "                          cmap=plt.cm.Blues):\n",
        "    if not title:\n",
        "        if normalize:\n",
        "            title = 'Normalized confusion matrix'\n",
        "        else:\n",
        "            title = 'Confusion matrix, without normalization'\n",
        "\n",
        "    # Compute confusion matrix\n",
        "    cm = confusion_matrix(y_true, y_pred)\n",
        "    if normalize:\n",
        "        cm = cm.astype('float') / cm.sum(axis=1)[:, np.newaxis]\n",
        "        print(\"Normalized confusion matrix\")\n",
        "    else:\n",
        "        print('Confusion matrix, without normalization')\n",
        "\n",
        "#Print Confusion matrix\n",
        "    fig, ax = plt.subplots(figsize=(7,7))\n",
        "    im = ax.imshow(cm, interpolation='nearest', cmap=cmap)\n",
        "    ax.figure.colorbar(im, ax=ax)\n",
        "    # We want to show all ticks...\n",
        "    ax.set(xticks=np.arange(cm.shape[1]),\n",
        "           yticks=np.arange(cm.shape[0]),\n",
        "           xticklabels=classes, yticklabels=classes,\n",
        "           title=title,\n",
        "           ylabel='True label',\n",
        "           xlabel='Predicted label')\n",
        "\n",
        "    # Rotate the tick labels and set their alignment.\n",
        "    plt.setp(ax.get_xticklabels(), rotation=45, ha=\"right\",\n",
        "             rotation_mode=\"anchor\")\n",
        "    # Loop over data dimensions and create text annotations.\n",
        "    fmt = '.2f' if normalize else 'd'\n",
        "    thresh = cm.max() / 2.\n",
        "    for i in range(cm.shape[0]):\n",
        "        for j in range(cm.shape[1]):\n",
        "            ax.text(j, i, format(cm[i, j], fmt),\n",
        "                    ha=\"center\", va=\"center\",\n",
        "                    color=\"white\" if cm[i, j] > thresh else \"black\")\n",
        "    fig.tight_layout()\n",
        "    return ax\n",
        "\n",
        "np.set_printoptions(precision=2)"
      ],
      "execution_count": null,
      "outputs": []
    },
    {
      "cell_type": "code",
      "metadata": {
        "colab": {
          "base_uri": "https://localhost:8080/",
          "height": 572
        },
        "id": "eTVOTjvNCYFt",
        "outputId": "2e18e529-c577-4eae-ec5d-0044ada9bb9c"
      },
      "source": [
        "#Making prediction\n",
        "y_pred=AlexNet.predict_classes(x_test)\n",
        "y_true=np.argmax(y_test,axis=1)\n",
        "\n",
        "#Plotting the confusion matrix\n",
        "from sklearn.metrics import confusion_matrix\n",
        "confusion_mtx=confusion_matrix(y_true,y_pred)\n",
        "\n",
        "class_names=['airplane', 'automobile', 'bird', 'cat', 'deer', 'dog', 'frog', 'horse', 'ship', 'truck']\n",
        "\n",
        "# Plotting non-normalized confusion matrix\n",
        "plot_confusion_matrix(y_true, y_pred, classes = class_names,title = 'Confusion matrix, without normalization')"
      ],
      "execution_count": null,
      "outputs": [
        {
          "output_type": "stream",
          "text": [
            "/usr/local/lib/python3.7/dist-packages/keras/engine/sequential.py:450: UserWarning: `model.predict_classes()` is deprecated and will be removed after 2021-01-01. Please use instead:* `np.argmax(model.predict(x), axis=-1)`,   if your model does multi-class classification   (e.g. if it uses a `softmax` last-layer activation).* `(model.predict(x) > 0.5).astype(\"int32\")`,   if your model does binary classification   (e.g. if it uses a `sigmoid` last-layer activation).\n",
            "  warnings.warn('`model.predict_classes()` is deprecated and '\n"
          ],
          "name": "stderr"
        },
        {
          "output_type": "stream",
          "text": [
            "Confusion matrix, without normalization\n"
          ],
          "name": "stdout"
        },
        {
          "output_type": "execute_result",
          "data": {
            "text/plain": [
              "<matplotlib.axes._subplots.AxesSubplot at 0x7f5d226f7ad0>"
            ]
          },
          "metadata": {
            "tags": []
          },
          "execution_count": 26
        },
        {
          "output_type": "display_data",
          "data": {
            "image/png": "[encoded data removed]",
            "text/plain": [
              "<Figure size 504x504 with 2 Axes>"
            ]
          },
          "metadata": {
            "tags": [],
            "needs_background": "light"
          }
        }
      ]
    },
    {
      "cell_type": "code",
      "metadata": {
        "colab": {
          "base_uri": "https://localhost:8080/",
          "height": 518
        },
        "id": "69lofntXCfgt",
        "outputId": "672089af-0d3b-426c-a3de-9f8a1cb5e7b8"
      },
      "source": [
        "plot_confusion_matrix(y_true, y_pred, classes=class_names, normalize=True, title='Normalized confusion matrix')"
      ],
      "execution_count": null,
      "outputs": [
        {
          "output_type": "stream",
          "text": [
            "Normalized confusion matrix\n"
          ],
          "name": "stdout"
        },
        {
          "output_type": "execute_result",
          "data": {
            "text/plain": [
              "<matplotlib.axes._subplots.AxesSubplot at 0x7f5cba07c3d0>"
            ]
          },
          "metadata": {
            "tags": []
          },
          "execution_count": 27
        },
        {
          "output_type": "display_data",
          "data": {
            "image/png": "[encoded data removed]",
            "text/plain": [
              "<Figure size 504x504 with 2 Axes>"
            ]
          },
          "metadata": {
            "tags": [],
            "needs_background": "light"
          }
        }
      ]
    },
    {
      "cell_type": "code",
      "metadata": {
        "colab": {
          "base_uri": "https://localhost:8080/"
        },
        "id": "yAL3vAkeCl0h",
        "outputId": "a88cde9d-3cae-4b5f-edf6-e1463aa657aa"
      },
      "source": [
        "#Classification accuracy\n",
        "from sklearn.metrics import accuracy_score\n",
        "acc_score = accuracy_score(y_true, y_pred)\n",
        "print('Accuracy Score = ', acc_score)"
      ],
      "execution_count": null,
      "outputs": [
        {
          "output_type": "stream",
          "text": [
            "Accuracy Score =  0.7166\n"
          ],
          "name": "stdout"
        }
      ]
    },
    {
      "cell_type": "code",
      "metadata": {
        "id": "zU9v_7wACtT1"
      },
      "source": [
        ""
      ],
      "execution_count": null,
      "outputs": []
    }
  ]
}