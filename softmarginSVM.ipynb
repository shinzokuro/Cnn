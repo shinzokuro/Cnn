{
  "nbformat": 4,
  "nbformat_minor": 0,
  "metadata": {
    "colab": {
      "name": "softmarginSVM",
      "provenance": [],
      "authorship_tag": "ABX9TyOXIKS27NdipqaD+IoV5cca",
      "include_colab_link": true
    },
    "kernelspec": {
      "name": "python3",
      "display_name": "Python 3"
    },
    "language_info": {
      "name": "python"
    }
  },
  "cells": [
    {
      "cell_type": "markdown",
      "metadata": {
        "id": "view-in-github",
        "colab_type": "text"
      },
      "source": [
        "<a href=\"https://colab.research.google.com/github/shinzokuro/Cnn/blob/alex/softmarginSVM.ipynb\" target=\"_parent\"><img src=\"https://colab.research.google.com/assets/colab-badge.svg\" alt=\"Open In Colab\"/></a>"
      ]
    },
    {
      "cell_type": "code",
      "metadata": {
        "id": "4jod-ft3KNES"
      },
      "source": [
        "import seaborn as sns"
      ],
      "execution_count": 1,
      "outputs": []
    },
    {
      "cell_type": "code",
      "metadata": {
        "id": "Vq3TO5r7KWqd"
      },
      "source": [
        "from sklearn import preprocessing"
      ],
      "execution_count": 2,
      "outputs": []
    },
    {
      "cell_type": "code",
      "metadata": {
        "id": "YqHMOajGKcE2"
      },
      "source": [
        "def load_data(cols):\n",
        "    iris = sns.load_dataset(\"iris\")\n",
        "    iris = iris.tail(100)\n",
        " \n",
        "    le = preprocessing.LabelEncoder()\n",
        "    y = le.fit_transform(iris[\"species\"])\n",
        " \n",
        "    X = iris.drop([\"species\"], axis=1)\n",
        " \n",
        "    if len(cols) > 0:\n",
        "        X = X[cols]\n",
        " \n",
        "    return X.values, y"
      ],
      "execution_count": 3,
      "outputs": []
    },
    {
      "cell_type": "code",
      "metadata": {
        "colab": {
          "base_uri": "https://localhost:8080/",
          "height": 416
        },
        "id": "X3jLxsc3KgCd",
        "outputId": "f7bc6e5b-30db-423d-e396-895ac094384d"
      },
      "source": [
        "import numpy as np\n",
        "import matplotlib.pyplot as plt\n",
        "import seaborn as sns\n",
        "from sklearn import preprocessing\n",
        "from sklearn.preprocessing import StandardScaler\n",
        " \n",
        " \n",
        "class LinearSVMUsingSoftMargin:\n",
        "    def __init__(self, C=1.0):\n",
        "        self._support_vectors = None\n",
        "        self.C = C\n",
        "        self.beta = None\n",
        "        self.b = None\n",
        "        self.X = None\n",
        "        self.y = None\n",
        " \n",
        "        # n is the number of data points\n",
        "        self.n = 0\n",
        " \n",
        "        # d is the number of dimensions\n",
        "        self.d = 0\n",
        " \n",
        "    def __decision_function(self, X):\n",
        "        return X.dot(self.beta) + self.b\n",
        " \n",
        "    def __cost(self, margin):\n",
        "        return (1 / 2) * self.beta.dot(self.beta) + self.C * np.sum(np.maximum(0, 1 - margin))\n",
        " \n",
        "    def __margin(self, X, y):\n",
        "        return y * self.__decision_function(X)\n",
        " \n",
        "    def fit(self, X, y, lr=1e-3, epochs=500):\n",
        "        # Initialize Beta and b\n",
        "        self.n, self.d = X.shape\n",
        "        print(X.shape)\n",
        "        self.beta = np.random.randn(self.d)\n",
        "        self.b = 0\n",
        " \n",
        "        # Required only for plotting\n",
        "        self.X = X\n",
        "        self.y = y\n",
        " \n",
        "        loss_array = []\n",
        "        for _ in range(epochs):\n",
        "            margin = self.__margin(X, y)\n",
        "            loss = self.__cost(margin)\n",
        "            loss_array.append(loss)\n",
        " \n",
        "            misclassified_pts_idx = np.where(margin < 1)[0]\n",
        "            #print(lr)\n",
        "            d_beta = self.beta - self.C * y[misclassified_pts_idx].dot(X[misclassified_pts_idx])\n",
        "            self.beta = self.beta - lr * d_beta\n",
        " \n",
        "            d_b = - self.C * np.sum(y[misclassified_pts_idx])\n",
        "            self.b = self.b - lr * d_b\n",
        " \n",
        "        self._support_vectors = np.where(self.__margin(X, y) <= 1)[0]\n",
        " \n",
        "    def predict(self, X):\n",
        "        return np.sign(self.__decision_function(X))\n",
        " \n",
        "    def score(self, X, y):\n",
        "        P = self.predict(X)\n",
        "        print(P)\n",
        "        return np.mean(y == P)\n",
        " \n",
        "    def plot_decision_boundary(self):\n",
        "        plt.scatter(self.X[:, 0], self.X[:, 1], c=self.y, s=50, cmap=plt.cm.Paired, alpha=.7)\n",
        "        ax = plt.gca()\n",
        "        xlim = ax.get_xlim()\n",
        "        ylim = ax.get_ylim()\n",
        " \n",
        "        # create grid to evaluate model\n",
        "        xx = np.linspace(xlim[0], xlim[1], 30)\n",
        "        yy = np.linspace(ylim[0], ylim[1], 30)\n",
        "        YY, XX = np.meshgrid(yy, xx)\n",
        "        xy = np.vstack([XX.ravel(), YY.ravel()]).T\n",
        "        Z = self.__decision_function(xy).reshape(XX.shape)\n",
        " \n",
        "        # plot decision boundary and margins\n",
        "        ax.contour(XX, YY, Z, colors=['r', 'b', 'r'], levels=[-1, 0, 1], alpha=0.5,\n",
        "                   linestyles=['--', '-', '--'], linewidths=[2.0, 2.0, 2.0])\n",
        " \n",
        "        # highlight the support vectors\n",
        "        ax.scatter(self.X[:, 0][self._support_vectors], self.X[:, 1][self._support_vectors], s=100,\n",
        "                   linewidth=1, facecolors='none', edgecolors='k')\n",
        " \n",
        "        plt.show()\n",
        " \n",
        " \n",
        "def load_data(cols):\n",
        "    iris = sns.load_dataset(\"iris\")\n",
        "    iris = iris.tail(100)\n",
        "    #print(iris)\n",
        " \n",
        "    le = preprocessing.LabelEncoder()\n",
        "    y = le.fit_transform(iris[\"species\"])\n",
        " \n",
        "    X = iris.drop([\"species\"], axis=1)\n",
        " \n",
        "    if len(cols) > 0:\n",
        "        X = X[cols]\n",
        "    #print(X,y)\n",
        "    return X.values, y\n",
        " \n",
        " \n",
        "if __name__ == '__main__':\n",
        "    # make sure the targets are (-1, +1)\n",
        "    cols = [\"petal_length\", \"petal_width\"]\n",
        "    X, y = load_data(cols)\n",
        " \n",
        "    y[y == 0] = -1\n",
        " \n",
        "    # scale the data\n",
        "    scaler = StandardScaler()\n",
        "    X = scaler.fit_transform(X)\n",
        "    # now we'll use our custom implementation\n",
        "    model = LinearSVMUsingSoftMargin(C=15.0)\n",
        " \n",
        "    model.fit(X, y)\n",
        "    print(\"train score:\", model.score(X, y))\n",
        "    print(model.predict(np.array(0.2)))\n",
        " \n",
        "    model.plot_decision_boundary()"
      ],
      "execution_count": 16,
      "outputs": [
        {
          "output_type": "stream",
          "text": [
            "(100, 2)\n",
            "[-1. -1. -1. -1. -1. -1. -1. -1. -1. -1. -1. -1. -1. -1. -1. -1. -1. -1.\n",
            " -1. -1.  1. -1. -1. -1. -1. -1. -1.  1. -1. -1. -1. -1. -1.  1. -1. -1.\n",
            " -1. -1. -1. -1. -1. -1. -1. -1. -1. -1. -1. -1. -1. -1.  1.  1.  1.  1.\n",
            "  1.  1. -1.  1.  1.  1.  1.  1.  1.  1.  1.  1.  1.  1.  1. -1.  1.  1.\n",
            "  1.  1.  1.  1.  1.  1.  1.  1.  1.  1.  1. -1.  1.  1.  1.  1.  1.  1.\n",
            "  1.  1.  1.  1.  1.  1.  1.  1.  1.  1.]\n",
            "train score: 0.94\n",
            "[1. 1.]\n"
          ],
          "name": "stdout"
        },
        {
          "output_type": "display_data",
          "data": {
            "image/png": "[encoded data removed]",
            "text/plain": [
              "<Figure size 432x288 with 1 Axes>"
            ]
          },
          "metadata": {
            "tags": [],
            "needs_background": "light"
          }
        }
      ]
    },
    {
      "cell_type": "code",
      "metadata": {
        "id": "iY2btE-iRS1i"
      },
      "source": [
        ""
      ],
      "execution_count": null,
      "outputs": []
    }
  ]
}